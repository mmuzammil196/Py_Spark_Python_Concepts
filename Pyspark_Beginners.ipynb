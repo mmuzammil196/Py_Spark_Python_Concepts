{
  "nbformat": 4,
  "nbformat_minor": 0,
  "metadata": {
    "colab": {
      "name": "Pyspark_Beginners.ipynb",
      "provenance": []
    },
    "kernelspec": {
      "name": "python3",
      "display_name": "Python 3"
    },
    "language_info": {
      "name": "python"
    }
  },
  "cells": [
    {
      "cell_type": "code",
      "source": [
        "!pip install pyspark"
      ],
      "metadata": {
        "colab": {
          "base_uri": "https://localhost:8080/"
        },
        "id": "5kapZs1yhK_j",
        "outputId": "3994c7ae-50de-4361-eae6-6361d3cbbc16"
      },
      "execution_count": 51,
      "outputs": [
        {
          "output_type": "stream",
          "name": "stdout",
          "text": [
            "Looking in indexes: https://pypi.org/simple, https://us-python.pkg.dev/colab-wheels/public/simple/\n",
            "Requirement already satisfied: pyspark in /usr/local/lib/python3.7/dist-packages (3.3.0)\n",
            "Requirement already satisfied: py4j==0.10.9.5 in /usr/local/lib/python3.7/dist-packages (from pyspark) (0.10.9.5)\n"
          ]
        }
      ]
    },
    {
      "cell_type": "markdown",
      "source": [
        "# **Create the Pyspark Session**"
      ],
      "metadata": {
        "id": "1rNEPmUTg7Rw"
      }
    },
    {
      "cell_type": "code",
      "execution_count": 52,
      "metadata": {
        "id": "2WWBZg3BgK3B"
      },
      "outputs": [],
      "source": [
        "from pyspark.sql import SparkSession"
      ]
    },
    {
      "cell_type": "markdown",
      "source": [
        "**Let's create a Session App Name**"
      ],
      "metadata": {
        "id": "wN3oceDpNjCv"
      }
    },
    {
      "cell_type": "code",
      "source": [
        "spark = SparkSession.builder.appName('Spark_Beginners').getOrCreate()"
      ],
      "metadata": {
        "id": "oyupfIIjhpYa"
      },
      "execution_count": 53,
      "outputs": []
    },
    {
      "cell_type": "markdown",
      "source": [
        "**Let's Check the session name**"
      ],
      "metadata": {
        "id": "Vkd-viggN_hC"
      }
    },
    {
      "cell_type": "code",
      "source": [
        "spark"
      ],
      "metadata": {
        "colab": {
          "base_uri": "https://localhost:8080/",
          "height": 222
        },
        "id": "VJmDwKwih8bc",
        "outputId": "ab59178c-8ec2-4178-aa18-c312ec490d07"
      },
      "execution_count": 54,
      "outputs": [
        {
          "output_type": "execute_result",
          "data": {
            "text/plain": [
              "<pyspark.sql.session.SparkSession at 0x7efdc8dcb9d0>"
            ],
            "text/html": [
              "\n",
              "            <div>\n",
              "                <p><b>SparkSession - in-memory</b></p>\n",
              "                \n",
              "        <div>\n",
              "            <p><b>SparkContext</b></p>\n",
              "\n",
              "            <p><a href=\"http://b93f102200a6:4040\">Spark UI</a></p>\n",
              "\n",
              "            <dl>\n",
              "              <dt>Version</dt>\n",
              "                <dd><code>v3.3.0</code></dd>\n",
              "              <dt>Master</dt>\n",
              "                <dd><code>local[*]</code></dd>\n",
              "              <dt>AppName</dt>\n",
              "                <dd><code>Spark_Beginners</code></dd>\n",
              "            </dl>\n",
              "        </div>\n",
              "        \n",
              "            </div>\n",
              "        "
            ]
          },
          "metadata": {},
          "execution_count": 54
        }
      ]
    },
    {
      "cell_type": "markdown",
      "source": [
        "**Read the dataframe using spark**"
      ],
      "metadata": {
        "id": "UTjfgm5QiaLd"
      }
    },
    {
      "cell_type": "code",
      "source": [
        "df = spark.read.csv('PK COVID-19.csv')"
      ],
      "metadata": {
        "id": "tMHYuiwQOL7E"
      },
      "execution_count": 55,
      "outputs": []
    },
    {
      "cell_type": "code",
      "source": [
        "df.show()"
      ],
      "metadata": {
        "colab": {
          "base_uri": "https://localhost:8080/"
        },
        "id": "Mo2yTqFWiC8n",
        "outputId": "b42eed03-c037-4b0a-8791-1ad8ef3f83b6"
      },
      "execution_count": 56,
      "outputs": [
        {
          "output_type": "stream",
          "name": "stdout",
          "text": [
            "+---------+-----+------+---------+--------------------+--------------------+---------+\n",
            "|      _c0|  _c1|   _c2|      _c3|                 _c4|                 _c5|      _c6|\n",
            "+---------+-----+------+---------+--------------------+--------------------+---------+\n",
            "|     Date|Cases|Deaths|Recovered|      Travel_history|            Province|     City|\n",
            "|2/26/2020|    1|     0|        0|               China|Islamabad Capital...|Islamabad|\n",
            "|2/26/2020|    2|     0|        0|         Iran/Taftan|               Sindh|  Karachi|\n",
            "|2/29/2020|    1|     0|        0|               China|Islamabad Capital...|Islamabad|\n",
            "|2/29/2020|    1|     0|        0|         Iran/Taftan|               Sindh|  Karachi|\n",
            "| 3/2/2020|    1|     0|        0|         Iran/Taftan|    Gilgit-Baltistan|   Gilgit|\n",
            "| 3/6/2020|    0|     0|        1|             Unknown|               Sindh|  Karachi|\n",
            "| 3/7/2020|    1|     0|        0|         Iran/Taftan|               Sindh|  Karachi|\n",
            "| 3/9/2020|    6|     0|        0|               Syria|               Sindh|  Karachi|\n",
            "| 3/9/2020|    3|     0|        0|                  UK|               Sindh|  Karachi|\n",
            "|3/10/2020|    1|     0|        0|         Iran/Taftan|               Sindh|  Karachi|\n",
            "|3/10/2020|    1|     0|        0|               Syria|               Sindh|Hyderabad|\n",
            "|3/10/2020|    1|     0|        0|         Iran/Taftan|         Baluchistan|   Quetta|\n",
            "|3/11/2020|    1|     0|        0|         Iran/Taftan|    Gilgit-Baltistan|   Skardu|\n",
            "|3/11/2020|    0|     0|        1|         Iran/Taftan|               Sindh|  Karachi|\n",
            "|3/12/2020|    1|     0|        0|Local - Social Co...|    Gilgit-Baltistan|   Gilgit|\n",
            "|3/13/2020|    1|     0|        0|                 USA|Islamabad Capital...|Islamabad|\n",
            "|3/13/2020|    1|     0|        1|Local - Social Co...|               Sindh|  Karachi|\n",
            "|3/13/2020|    7|     0|        0|         Iran/Taftan|         Baluchistan|   Taftan|\n",
            "|3/15/2020|   13|     0|        0|         Iran/Taftan|               Sindh|   Sukkur|\n",
            "+---------+-----+------+---------+--------------------+--------------------+---------+\n",
            "only showing top 20 rows\n",
            "\n"
          ]
        }
      ]
    },
    {
      "cell_type": "markdown",
      "source": [
        "**Let's set column names in spark**"
      ],
      "metadata": {
        "id": "Vitg-ChPeKok"
      }
    },
    {
      "cell_type": "code",
      "source": [
        "df = spark.read.option('header', 'true').csv('PK COVID-19.csv')"
      ],
      "metadata": {
        "id": "yaAAkmCSiqqI"
      },
      "execution_count": 57,
      "outputs": []
    },
    {
      "cell_type": "code",
      "source": [
        "df.show()"
      ],
      "metadata": {
        "colab": {
          "base_uri": "https://localhost:8080/"
        },
        "id": "IQFRPyCxi5CQ",
        "outputId": "74d4dff0-3c30-4ef6-c88c-df4251813355"
      },
      "execution_count": 58,
      "outputs": [
        {
          "output_type": "stream",
          "name": "stdout",
          "text": [
            "+---------+-----+------+---------+--------------------+--------------------+---------+\n",
            "|     Date|Cases|Deaths|Recovered|      Travel_history|            Province|     City|\n",
            "+---------+-----+------+---------+--------------------+--------------------+---------+\n",
            "|2/26/2020|    1|     0|        0|               China|Islamabad Capital...|Islamabad|\n",
            "|2/26/2020|    2|     0|        0|         Iran/Taftan|               Sindh|  Karachi|\n",
            "|2/29/2020|    1|     0|        0|               China|Islamabad Capital...|Islamabad|\n",
            "|2/29/2020|    1|     0|        0|         Iran/Taftan|               Sindh|  Karachi|\n",
            "| 3/2/2020|    1|     0|        0|         Iran/Taftan|    Gilgit-Baltistan|   Gilgit|\n",
            "| 3/6/2020|    0|     0|        1|             Unknown|               Sindh|  Karachi|\n",
            "| 3/7/2020|    1|     0|        0|         Iran/Taftan|               Sindh|  Karachi|\n",
            "| 3/9/2020|    6|     0|        0|               Syria|               Sindh|  Karachi|\n",
            "| 3/9/2020|    3|     0|        0|                  UK|               Sindh|  Karachi|\n",
            "|3/10/2020|    1|     0|        0|         Iran/Taftan|               Sindh|  Karachi|\n",
            "|3/10/2020|    1|     0|        0|               Syria|               Sindh|Hyderabad|\n",
            "|3/10/2020|    1|     0|        0|         Iran/Taftan|         Baluchistan|   Quetta|\n",
            "|3/11/2020|    1|     0|        0|         Iran/Taftan|    Gilgit-Baltistan|   Skardu|\n",
            "|3/11/2020|    0|     0|        1|         Iran/Taftan|               Sindh|  Karachi|\n",
            "|3/12/2020|    1|     0|        0|Local - Social Co...|    Gilgit-Baltistan|   Gilgit|\n",
            "|3/13/2020|    1|     0|        0|                 USA|Islamabad Capital...|Islamabad|\n",
            "|3/13/2020|    1|     0|        1|Local - Social Co...|               Sindh|  Karachi|\n",
            "|3/13/2020|    7|     0|        0|         Iran/Taftan|         Baluchistan|   Taftan|\n",
            "|3/15/2020|   13|     0|        0|         Iran/Taftan|               Sindh|   Sukkur|\n",
            "|3/15/2020|    4|     0|        0|         Iran/Taftan|               Sindh|  Karachi|\n",
            "+---------+-----+------+---------+--------------------+--------------------+---------+\n",
            "only showing top 20 rows\n",
            "\n"
          ]
        }
      ]
    },
    {
      "cell_type": "markdown",
      "source": [
        "**Print the Schema of df**"
      ],
      "metadata": {
        "id": "yxP01WIdf1O2"
      }
    },
    {
      "cell_type": "code",
      "source": [
        "df.printSchema()"
      ],
      "metadata": {
        "colab": {
          "base_uri": "https://localhost:8080/"
        },
        "id": "UHKrUD0ii7tG",
        "outputId": "d2804082-8d5c-479c-c12c-20f5f6486608"
      },
      "execution_count": 59,
      "outputs": [
        {
          "output_type": "stream",
          "name": "stdout",
          "text": [
            "root\n",
            " |-- Date: string (nullable = true)\n",
            " |-- Cases: string (nullable = true)\n",
            " |-- Deaths: string (nullable = true)\n",
            " |-- Recovered: string (nullable = true)\n",
            " |-- Travel_history: string (nullable = true)\n",
            " |-- Province: string (nullable = true)\n",
            " |-- City: string (nullable = true)\n",
            "\n"
          ]
        }
      ]
    },
    {
      "cell_type": "markdown",
      "source": [
        "**Let's print the infer schema to infer data types**"
      ],
      "metadata": {
        "id": "p8xXoR-SmFQ2"
      }
    },
    {
      "cell_type": "code",
      "source": [
        "df = spark.read.option('header', 'true').csv('PK COVID-19.csv', inferSchema=True)"
      ],
      "metadata": {
        "id": "LynUhnLCjDhb"
      },
      "execution_count": 60,
      "outputs": []
    },
    {
      "cell_type": "code",
      "source": [
        "df.printSchema()"
      ],
      "metadata": {
        "id": "pZQvfxivm30F",
        "outputId": "986084eb-0f2f-4e8c-8cd9-3e2bc813063b",
        "colab": {
          "base_uri": "https://localhost:8080/"
        }
      },
      "execution_count": 61,
      "outputs": [
        {
          "output_type": "stream",
          "name": "stdout",
          "text": [
            "root\n",
            " |-- Date: string (nullable = true)\n",
            " |-- Cases: integer (nullable = true)\n",
            " |-- Deaths: integer (nullable = true)\n",
            " |-- Recovered: integer (nullable = true)\n",
            " |-- Travel_history: string (nullable = true)\n",
            " |-- Province: string (nullable = true)\n",
            " |-- City: string (nullable = true)\n",
            "\n"
          ]
        }
      ]
    },
    {
      "cell_type": "markdown",
      "source": [
        "**Let's see the columns name**"
      ],
      "metadata": {
        "id": "uJNYeOOPza-c"
      }
    },
    {
      "cell_type": "code",
      "source": [
        "df.columns"
      ],
      "metadata": {
        "id": "W5xM5iKhm48S",
        "outputId": "c774b2c5-4c35-4ac9-cbf4-63713e450136",
        "colab": {
          "base_uri": "https://localhost:8080/"
        }
      },
      "execution_count": 62,
      "outputs": [
        {
          "output_type": "execute_result",
          "data": {
            "text/plain": [
              "['Date', 'Cases', 'Deaths', 'Recovered', 'Travel_history', 'Province', 'City']"
            ]
          },
          "metadata": {},
          "execution_count": 62
        }
      ]
    },
    {
      "cell_type": "markdown",
      "source": [
        "**See the data types of dataframe**"
      ],
      "metadata": {
        "id": "dw8QUEIgztEZ"
      }
    },
    {
      "cell_type": "code",
      "source": [
        "type(df)"
      ],
      "metadata": {
        "id": "U9uIzpSLzRW3",
        "outputId": "d35da1e1-3817-4253-ef84-ba1176f70f49",
        "colab": {
          "base_uri": "https://localhost:8080/"
        }
      },
      "execution_count": 63,
      "outputs": [
        {
          "output_type": "execute_result",
          "data": {
            "text/plain": [
              "pyspark.sql.dataframe.DataFrame"
            ]
          },
          "metadata": {},
          "execution_count": 63
        }
      ]
    },
    {
      "cell_type": "markdown",
      "source": [
        "**Let's Select only one column 'City' from spark df**"
      ],
      "metadata": {
        "id": "DP_SIl-E0g2W"
      }
    },
    {
      "cell_type": "code",
      "source": [
        "df.select('City').show()"
      ],
      "metadata": {
        "id": "ku52r5CrzrGB",
        "outputId": "1b2cb92c-9eea-4fe7-8cd5-fc313b78ddb0",
        "colab": {
          "base_uri": "https://localhost:8080/"
        }
      },
      "execution_count": 64,
      "outputs": [
        {
          "output_type": "stream",
          "name": "stdout",
          "text": [
            "+---------+\n",
            "|     City|\n",
            "+---------+\n",
            "|Islamabad|\n",
            "|  Karachi|\n",
            "|Islamabad|\n",
            "|  Karachi|\n",
            "|   Gilgit|\n",
            "|  Karachi|\n",
            "|  Karachi|\n",
            "|  Karachi|\n",
            "|  Karachi|\n",
            "|  Karachi|\n",
            "|Hyderabad|\n",
            "|   Quetta|\n",
            "|   Skardu|\n",
            "|  Karachi|\n",
            "|   Gilgit|\n",
            "|Islamabad|\n",
            "|  Karachi|\n",
            "|   Taftan|\n",
            "|   Sukkur|\n",
            "|  Karachi|\n",
            "+---------+\n",
            "only showing top 20 rows\n",
            "\n"
          ]
        }
      ]
    },
    {
      "cell_type": "markdown",
      "source": [
        "**Let's Select Multiple columns \"Cases' & 'City' from spark df**"
      ],
      "metadata": {
        "id": "fuvfOvkC1CQp"
      }
    },
    {
      "cell_type": "code",
      "source": [
        "df.select(['Cases','City']).show()"
      ],
      "metadata": {
        "id": "NuL8Rzvi0WuI",
        "outputId": "88dedc45-f1e8-463c-b837-f47715dc25b4",
        "colab": {
          "base_uri": "https://localhost:8080/"
        }
      },
      "execution_count": 65,
      "outputs": [
        {
          "output_type": "stream",
          "name": "stdout",
          "text": [
            "+-----+---------+\n",
            "|Cases|     City|\n",
            "+-----+---------+\n",
            "|    1|Islamabad|\n",
            "|    2|  Karachi|\n",
            "|    1|Islamabad|\n",
            "|    1|  Karachi|\n",
            "|    1|   Gilgit|\n",
            "|    0|  Karachi|\n",
            "|    1|  Karachi|\n",
            "|    6|  Karachi|\n",
            "|    3|  Karachi|\n",
            "|    1|  Karachi|\n",
            "|    1|Hyderabad|\n",
            "|    1|   Quetta|\n",
            "|    1|   Skardu|\n",
            "|    0|  Karachi|\n",
            "|    1|   Gilgit|\n",
            "|    1|Islamabad|\n",
            "|    1|  Karachi|\n",
            "|    7|   Taftan|\n",
            "|   13|   Sukkur|\n",
            "|    4|  Karachi|\n",
            "+-----+---------+\n",
            "only showing top 20 rows\n",
            "\n"
          ]
        }
      ]
    },
    {
      "cell_type": "markdown",
      "source": [
        "**Let's Add the column in spark dataframe**"
      ],
      "metadata": {
        "id": "xX4ZwLG812PB"
      }
    },
    {
      "cell_type": "code",
      "source": [
        "df = df.withColumn('Cases After Multiply by 2', df['Cases'] * 2 )"
      ],
      "metadata": {
        "id": "ux4P6dRM1I7T"
      },
      "execution_count": 66,
      "outputs": []
    },
    {
      "cell_type": "code",
      "source": [
        "df.show()"
      ],
      "metadata": {
        "id": "Tz2uCDXA2Aca",
        "outputId": "bca137aa-2930-4a59-932b-6617adb66dbe",
        "colab": {
          "base_uri": "https://localhost:8080/"
        }
      },
      "execution_count": 67,
      "outputs": [
        {
          "output_type": "stream",
          "name": "stdout",
          "text": [
            "+---------+-----+------+---------+--------------------+--------------------+---------+-------------------------+\n",
            "|     Date|Cases|Deaths|Recovered|      Travel_history|            Province|     City|Cases After Multiply by 2|\n",
            "+---------+-----+------+---------+--------------------+--------------------+---------+-------------------------+\n",
            "|2/26/2020|    1|     0|        0|               China|Islamabad Capital...|Islamabad|                        2|\n",
            "|2/26/2020|    2|     0|        0|         Iran/Taftan|               Sindh|  Karachi|                        4|\n",
            "|2/29/2020|    1|     0|        0|               China|Islamabad Capital...|Islamabad|                        2|\n",
            "|2/29/2020|    1|     0|        0|         Iran/Taftan|               Sindh|  Karachi|                        2|\n",
            "| 3/2/2020|    1|     0|        0|         Iran/Taftan|    Gilgit-Baltistan|   Gilgit|                        2|\n",
            "| 3/6/2020|    0|     0|        1|             Unknown|               Sindh|  Karachi|                        0|\n",
            "| 3/7/2020|    1|     0|        0|         Iran/Taftan|               Sindh|  Karachi|                        2|\n",
            "| 3/9/2020|    6|     0|        0|               Syria|               Sindh|  Karachi|                       12|\n",
            "| 3/9/2020|    3|     0|        0|                  UK|               Sindh|  Karachi|                        6|\n",
            "|3/10/2020|    1|     0|        0|         Iran/Taftan|               Sindh|  Karachi|                        2|\n",
            "|3/10/2020|    1|     0|        0|               Syria|               Sindh|Hyderabad|                        2|\n",
            "|3/10/2020|    1|     0|        0|         Iran/Taftan|         Baluchistan|   Quetta|                        2|\n",
            "|3/11/2020|    1|     0|        0|         Iran/Taftan|    Gilgit-Baltistan|   Skardu|                        2|\n",
            "|3/11/2020|    0|     0|        1|         Iran/Taftan|               Sindh|  Karachi|                        0|\n",
            "|3/12/2020|    1|     0|        0|Local - Social Co...|    Gilgit-Baltistan|   Gilgit|                        2|\n",
            "|3/13/2020|    1|     0|        0|                 USA|Islamabad Capital...|Islamabad|                        2|\n",
            "|3/13/2020|    1|     0|        1|Local - Social Co...|               Sindh|  Karachi|                        2|\n",
            "|3/13/2020|    7|     0|        0|         Iran/Taftan|         Baluchistan|   Taftan|                       14|\n",
            "|3/15/2020|   13|     0|        0|         Iran/Taftan|               Sindh|   Sukkur|                       26|\n",
            "|3/15/2020|    4|     0|        0|         Iran/Taftan|               Sindh|  Karachi|                        8|\n",
            "+---------+-----+------+---------+--------------------+--------------------+---------+-------------------------+\n",
            "only showing top 20 rows\n",
            "\n"
          ]
        }
      ]
    },
    {
      "cell_type": "markdown",
      "source": [
        "**Let's Drop the Column from spark dataframe**"
      ],
      "metadata": {
        "id": "XM8G9h8R3T-c"
      }
    },
    {
      "cell_type": "code",
      "source": [
        "df = df.drop('Cases After Multiply by 2')"
      ],
      "metadata": {
        "id": "TyuHc58c3HzG"
      },
      "execution_count": 68,
      "outputs": []
    },
    {
      "cell_type": "code",
      "source": [
        "df.show()"
      ],
      "metadata": {
        "id": "dlJ7oaCs3vD5",
        "outputId": "f24e4570-e4a3-4da0-9322-ee7206cc6367",
        "colab": {
          "base_uri": "https://localhost:8080/"
        }
      },
      "execution_count": 69,
      "outputs": [
        {
          "output_type": "stream",
          "name": "stdout",
          "text": [
            "+---------+-----+------+---------+--------------------+--------------------+---------+\n",
            "|     Date|Cases|Deaths|Recovered|      Travel_history|            Province|     City|\n",
            "+---------+-----+------+---------+--------------------+--------------------+---------+\n",
            "|2/26/2020|    1|     0|        0|               China|Islamabad Capital...|Islamabad|\n",
            "|2/26/2020|    2|     0|        0|         Iran/Taftan|               Sindh|  Karachi|\n",
            "|2/29/2020|    1|     0|        0|               China|Islamabad Capital...|Islamabad|\n",
            "|2/29/2020|    1|     0|        0|         Iran/Taftan|               Sindh|  Karachi|\n",
            "| 3/2/2020|    1|     0|        0|         Iran/Taftan|    Gilgit-Baltistan|   Gilgit|\n",
            "| 3/6/2020|    0|     0|        1|             Unknown|               Sindh|  Karachi|\n",
            "| 3/7/2020|    1|     0|        0|         Iran/Taftan|               Sindh|  Karachi|\n",
            "| 3/9/2020|    6|     0|        0|               Syria|               Sindh|  Karachi|\n",
            "| 3/9/2020|    3|     0|        0|                  UK|               Sindh|  Karachi|\n",
            "|3/10/2020|    1|     0|        0|         Iran/Taftan|               Sindh|  Karachi|\n",
            "|3/10/2020|    1|     0|        0|               Syria|               Sindh|Hyderabad|\n",
            "|3/10/2020|    1|     0|        0|         Iran/Taftan|         Baluchistan|   Quetta|\n",
            "|3/11/2020|    1|     0|        0|         Iran/Taftan|    Gilgit-Baltistan|   Skardu|\n",
            "|3/11/2020|    0|     0|        1|         Iran/Taftan|               Sindh|  Karachi|\n",
            "|3/12/2020|    1|     0|        0|Local - Social Co...|    Gilgit-Baltistan|   Gilgit|\n",
            "|3/13/2020|    1|     0|        0|                 USA|Islamabad Capital...|Islamabad|\n",
            "|3/13/2020|    1|     0|        1|Local - Social Co...|               Sindh|  Karachi|\n",
            "|3/13/2020|    7|     0|        0|         Iran/Taftan|         Baluchistan|   Taftan|\n",
            "|3/15/2020|   13|     0|        0|         Iran/Taftan|               Sindh|   Sukkur|\n",
            "|3/15/2020|    4|     0|        0|         Iran/Taftan|               Sindh|  Karachi|\n",
            "+---------+-----+------+---------+--------------------+--------------------+---------+\n",
            "only showing top 20 rows\n",
            "\n"
          ]
        }
      ]
    },
    {
      "cell_type": "markdown",
      "source": [
        "**Let's Rename the Column Names**"
      ],
      "metadata": {
        "id": "8vwlHypm31J5"
      }
    },
    {
      "cell_type": "code",
      "source": [
        "df.withColumnRenamed('City', 'city').show()"
      ],
      "metadata": {
        "id": "QOugdFRr3wSB",
        "outputId": "7d45298a-ce44-4ce1-f006-59c010b664a9",
        "colab": {
          "base_uri": "https://localhost:8080/"
        }
      },
      "execution_count": 72,
      "outputs": [
        {
          "output_type": "stream",
          "name": "stdout",
          "text": [
            "+---------+-----+------+---------+--------------------+--------------------+---------+\n",
            "|     Date|Cases|Deaths|Recovered|      Travel_history|            Province|     city|\n",
            "+---------+-----+------+---------+--------------------+--------------------+---------+\n",
            "|2/26/2020|    1|     0|        0|               China|Islamabad Capital...|Islamabad|\n",
            "|2/26/2020|    2|     0|        0|         Iran/Taftan|               Sindh|  Karachi|\n",
            "|2/29/2020|    1|     0|        0|               China|Islamabad Capital...|Islamabad|\n",
            "|2/29/2020|    1|     0|        0|         Iran/Taftan|               Sindh|  Karachi|\n",
            "| 3/2/2020|    1|     0|        0|         Iran/Taftan|    Gilgit-Baltistan|   Gilgit|\n",
            "| 3/6/2020|    0|     0|        1|             Unknown|               Sindh|  Karachi|\n",
            "| 3/7/2020|    1|     0|        0|         Iran/Taftan|               Sindh|  Karachi|\n",
            "| 3/9/2020|    6|     0|        0|               Syria|               Sindh|  Karachi|\n",
            "| 3/9/2020|    3|     0|        0|                  UK|               Sindh|  Karachi|\n",
            "|3/10/2020|    1|     0|        0|         Iran/Taftan|               Sindh|  Karachi|\n",
            "|3/10/2020|    1|     0|        0|               Syria|               Sindh|Hyderabad|\n",
            "|3/10/2020|    1|     0|        0|         Iran/Taftan|         Baluchistan|   Quetta|\n",
            "|3/11/2020|    1|     0|        0|         Iran/Taftan|    Gilgit-Baltistan|   Skardu|\n",
            "|3/11/2020|    0|     0|        1|         Iran/Taftan|               Sindh|  Karachi|\n",
            "|3/12/2020|    1|     0|        0|Local - Social Co...|    Gilgit-Baltistan|   Gilgit|\n",
            "|3/13/2020|    1|     0|        0|                 USA|Islamabad Capital...|Islamabad|\n",
            "|3/13/2020|    1|     0|        1|Local - Social Co...|               Sindh|  Karachi|\n",
            "|3/13/2020|    7|     0|        0|         Iran/Taftan|         Baluchistan|   Taftan|\n",
            "|3/15/2020|   13|     0|        0|         Iran/Taftan|               Sindh|   Sukkur|\n",
            "|3/15/2020|    4|     0|        0|         Iran/Taftan|               Sindh|  Karachi|\n",
            "+---------+-----+------+---------+--------------------+--------------------+---------+\n",
            "only showing top 20 rows\n",
            "\n"
          ]
        }
      ]
    },
    {
      "cell_type": "code",
      "source": [
        ""
      ],
      "metadata": {
        "id": "PRqKEWS64ZS2"
      },
      "execution_count": 71,
      "outputs": []
    }
  ]
}