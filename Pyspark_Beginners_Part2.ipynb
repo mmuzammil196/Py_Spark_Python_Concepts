{
  "nbformat": 4,
  "nbformat_minor": 0,
  "metadata": {
    "colab": {
      "name": "Pyspark_Beginners_Part2.ipynb",
      "provenance": []
    },
    "kernelspec": {
      "name": "python3",
      "display_name": "Python 3"
    },
    "language_info": {
      "name": "python"
    }
  },
  "cells": [
    {
      "cell_type": "code",
      "execution_count": 1,
      "metadata": {
        "colab": {
          "base_uri": "https://localhost:8080/"
        },
        "id": "eP-nkrKViY1_",
        "outputId": "b3fbd158-3e1e-42c2-8055-48c41788e874"
      },
      "outputs": [
        {
          "output_type": "stream",
          "name": "stdout",
          "text": [
            "Looking in indexes: https://pypi.org/simple, https://us-python.pkg.dev/colab-wheels/public/simple/\n",
            "Collecting pyspark\n",
            "  Downloading pyspark-3.3.0.tar.gz (281.3 MB)\n",
            "\u001b[K     |████████████████████████████████| 281.3 MB 46 kB/s \n",
            "\u001b[?25hCollecting py4j==0.10.9.5\n",
            "  Downloading py4j-0.10.9.5-py2.py3-none-any.whl (199 kB)\n",
            "\u001b[K     |████████████████████████████████| 199 kB 54.0 MB/s \n",
            "\u001b[?25hBuilding wheels for collected packages: pyspark\n",
            "  Building wheel for pyspark (setup.py) ... \u001b[?25l\u001b[?25hdone\n",
            "  Created wheel for pyspark: filename=pyspark-3.3.0-py2.py3-none-any.whl size=281764026 sha256=fa6d057a1931062c45dd7899254fa81c6cad4ec97d66881dd16d5ec7ec19031a\n",
            "  Stored in directory: /root/.cache/pip/wheels/7a/8e/1b/f73a52650d2e5f337708d9f6a1750d451a7349a867f928b885\n",
            "Successfully built pyspark\n",
            "Installing collected packages: py4j, pyspark\n",
            "Successfully installed py4j-0.10.9.5 pyspark-3.3.0\n"
          ]
        }
      ],
      "source": [
        "!pip install pyspark"
      ]
    },
    {
      "cell_type": "markdown",
      "source": [
        "# **Create the Pyspark Session**"
      ],
      "metadata": {
        "id": "1rNEPmUTg7Rw"
      }
    },
    {
      "cell_type": "code",
      "source": [
        "from pyspark.sql import SparkSession"
      ],
      "metadata": {
        "id": "k9t5WeWBihiO"
      },
      "execution_count": 2,
      "outputs": []
    },
    {
      "cell_type": "markdown",
      "source": [
        "**Let's create a Session App Name**"
      ],
      "metadata": {
        "id": "wN3oceDpNjCv"
      }
    },
    {
      "cell_type": "code",
      "source": [
        "spark = SparkSession.builder.appName('Spark_Beginners_Part2').getOrCreate()"
      ],
      "metadata": {
        "id": "KMQm6K00inKw"
      },
      "execution_count": 3,
      "outputs": []
    },
    {
      "cell_type": "markdown",
      "source": [
        "**Let's Check the session name**"
      ],
      "metadata": {
        "id": "Vkd-viggN_hC"
      }
    },
    {
      "cell_type": "code",
      "source": [
        "spark"
      ],
      "metadata": {
        "colab": {
          "base_uri": "https://localhost:8080/",
          "height": 222
        },
        "id": "-XnghNO7irA2",
        "outputId": "631f6b6c-f1be-4dc7-85b9-f16243de7332"
      },
      "execution_count": 4,
      "outputs": [
        {
          "output_type": "execute_result",
          "data": {
            "text/plain": [
              "<pyspark.sql.session.SparkSession at 0x7f40b584e890>"
            ],
            "text/html": [
              "\n",
              "            <div>\n",
              "                <p><b>SparkSession - in-memory</b></p>\n",
              "                \n",
              "        <div>\n",
              "            <p><b>SparkContext</b></p>\n",
              "\n",
              "            <p><a href=\"http://95ce06f671f0:4040\">Spark UI</a></p>\n",
              "\n",
              "            <dl>\n",
              "              <dt>Version</dt>\n",
              "                <dd><code>v3.3.0</code></dd>\n",
              "              <dt>Master</dt>\n",
              "                <dd><code>local[*]</code></dd>\n",
              "              <dt>AppName</dt>\n",
              "                <dd><code>Spark_Beginners_Part2</code></dd>\n",
              "            </dl>\n",
              "        </div>\n",
              "        \n",
              "            </div>\n",
              "        "
            ]
          },
          "metadata": {},
          "execution_count": 4
        }
      ]
    },
    {
      "cell_type": "markdown",
      "source": [
        "**Read the dataframe using spark**"
      ],
      "metadata": {
        "id": "UTjfgm5QiaLd"
      }
    },
    {
      "cell_type": "code",
      "source": [
        "df = spark.read.option('header', 'true').csv('PK COVID-19.csv', inferSchema=True)"
      ],
      "metadata": {
        "id": "bECb1nE5iuHo"
      },
      "execution_count": 5,
      "outputs": []
    },
    {
      "cell_type": "code",
      "source": [
        "df.show()"
      ],
      "metadata": {
        "colab": {
          "base_uri": "https://localhost:8080/"
        },
        "id": "dRnY-T6ciwSr",
        "outputId": "45efee20-0854-42f7-d4e9-73578c64b57c"
      },
      "execution_count": 6,
      "outputs": [
        {
          "output_type": "stream",
          "name": "stdout",
          "text": [
            "+---------+-----+------+---------+--------------------+--------------------+---------+\n",
            "|     Date|Cases|Deaths|Recovered|      Travel_history|            Province|     City|\n",
            "+---------+-----+------+---------+--------------------+--------------------+---------+\n",
            "|2/26/2020|    1|     0|        0|               China|Islamabad Capital...|Islamabad|\n",
            "|2/26/2020|    2|     0|        0|         Iran/Taftan|               Sindh|  Karachi|\n",
            "|2/29/2020|    1|     0|        0|               China|Islamabad Capital...|Islamabad|\n",
            "|2/29/2020|    1|     0|        0|         Iran/Taftan|               Sindh|  Karachi|\n",
            "| 3/2/2020|    1|     0|        0|         Iran/Taftan|    Gilgit-Baltistan|   Gilgit|\n",
            "| 3/6/2020|    0|     0|        1|             Unknown|               Sindh|  Karachi|\n",
            "| 3/7/2020|    1|     0|        0|         Iran/Taftan|               Sindh|  Karachi|\n",
            "| 3/9/2020|    6|     0|        0|               Syria|               Sindh|  Karachi|\n",
            "| 3/9/2020|    3|     0|        0|                  UK|               Sindh|  Karachi|\n",
            "|3/10/2020|    1|     0|        0|         Iran/Taftan|               Sindh|  Karachi|\n",
            "|3/10/2020|    1|     0|        0|               Syria|               Sindh|Hyderabad|\n",
            "|3/10/2020|    1|     0|        0|         Iran/Taftan|         Baluchistan|   Quetta|\n",
            "|3/11/2020|    1|     0|        0|         Iran/Taftan|    Gilgit-Baltistan|   Skardu|\n",
            "|3/11/2020|    0|     0|        1|         Iran/Taftan|               Sindh|  Karachi|\n",
            "|3/12/2020|    1|     0|        0|Local - Social Co...|    Gilgit-Baltistan|   Gilgit|\n",
            "|3/13/2020|    1|     0|        0|                 USA|Islamabad Capital...|Islamabad|\n",
            "|3/13/2020|    1|     0|        1|Local - Social Co...|               Sindh|  Karachi|\n",
            "|3/13/2020|    7|     0|        0|         Iran/Taftan|         Baluchistan|   Taftan|\n",
            "|3/15/2020|   13|     0|        0|         Iran/Taftan|               Sindh|   Sukkur|\n",
            "|3/15/2020|    4|     0|        0|         Iran/Taftan|               Sindh|  Karachi|\n",
            "+---------+-----+------+---------+--------------------+--------------------+---------+\n",
            "only showing top 20 rows\n",
            "\n"
          ]
        }
      ]
    },
    {
      "cell_type": "markdown",
      "source": [
        "**Let's See How to Drop the Column in Pyspark**"
      ],
      "metadata": {
        "id": "EGGZcIk3jpMj"
      }
    },
    {
      "cell_type": "code",
      "source": [
        "df.drop('Date').show()"
      ],
      "metadata": {
        "colab": {
          "base_uri": "https://localhost:8080/"
        },
        "id": "MgRZlH46jeLL",
        "outputId": "23d0c094-d6ae-49b9-b444-22e997a7d127"
      },
      "execution_count": 7,
      "outputs": [
        {
          "output_type": "stream",
          "name": "stdout",
          "text": [
            "+-----+------+---------+--------------------+--------------------+---------+\n",
            "|Cases|Deaths|Recovered|      Travel_history|            Province|     City|\n",
            "+-----+------+---------+--------------------+--------------------+---------+\n",
            "|    1|     0|        0|               China|Islamabad Capital...|Islamabad|\n",
            "|    2|     0|        0|         Iran/Taftan|               Sindh|  Karachi|\n",
            "|    1|     0|        0|               China|Islamabad Capital...|Islamabad|\n",
            "|    1|     0|        0|         Iran/Taftan|               Sindh|  Karachi|\n",
            "|    1|     0|        0|         Iran/Taftan|    Gilgit-Baltistan|   Gilgit|\n",
            "|    0|     0|        1|             Unknown|               Sindh|  Karachi|\n",
            "|    1|     0|        0|         Iran/Taftan|               Sindh|  Karachi|\n",
            "|    6|     0|        0|               Syria|               Sindh|  Karachi|\n",
            "|    3|     0|        0|                  UK|               Sindh|  Karachi|\n",
            "|    1|     0|        0|         Iran/Taftan|               Sindh|  Karachi|\n",
            "|    1|     0|        0|               Syria|               Sindh|Hyderabad|\n",
            "|    1|     0|        0|         Iran/Taftan|         Baluchistan|   Quetta|\n",
            "|    1|     0|        0|         Iran/Taftan|    Gilgit-Baltistan|   Skardu|\n",
            "|    0|     0|        1|         Iran/Taftan|               Sindh|  Karachi|\n",
            "|    1|     0|        0|Local - Social Co...|    Gilgit-Baltistan|   Gilgit|\n",
            "|    1|     0|        0|                 USA|Islamabad Capital...|Islamabad|\n",
            "|    1|     0|        1|Local - Social Co...|               Sindh|  Karachi|\n",
            "|    7|     0|        0|         Iran/Taftan|         Baluchistan|   Taftan|\n",
            "|   13|     0|        0|         Iran/Taftan|               Sindh|   Sukkur|\n",
            "|    4|     0|        0|         Iran/Taftan|               Sindh|  Karachi|\n",
            "+-----+------+---------+--------------------+--------------------+---------+\n",
            "only showing top 20 rows\n",
            "\n"
          ]
        }
      ]
    },
    {
      "cell_type": "markdown",
      "source": [
        "**Let's See How to Drop the Rows where if Null Value is exist in Pyspark**"
      ],
      "metadata": {
        "id": "8AkHVjWxkJ26"
      }
    },
    {
      "cell_type": "code",
      "source": [
        "df.na.drop().show()"
      ],
      "metadata": {
        "colab": {
          "base_uri": "https://localhost:8080/"
        },
        "id": "gbYxNBFkj3V9",
        "outputId": "6a485763-2e6a-4a54-a742-906242c8e647"
      },
      "execution_count": 10,
      "outputs": [
        {
          "output_type": "stream",
          "name": "stdout",
          "text": [
            "+---------+-----+------+---------+--------------------+--------------------+---------+\n",
            "|     Date|Cases|Deaths|Recovered|      Travel_history|            Province|     City|\n",
            "+---------+-----+------+---------+--------------------+--------------------+---------+\n",
            "|2/26/2020|    1|     0|        0|               China|Islamabad Capital...|Islamabad|\n",
            "|2/26/2020|    2|     0|        0|         Iran/Taftan|               Sindh|  Karachi|\n",
            "|2/29/2020|    1|     0|        0|               China|Islamabad Capital...|Islamabad|\n",
            "|2/29/2020|    1|     0|        0|         Iran/Taftan|               Sindh|  Karachi|\n",
            "| 3/2/2020|    1|     0|        0|         Iran/Taftan|    Gilgit-Baltistan|   Gilgit|\n",
            "| 3/6/2020|    0|     0|        1|             Unknown|               Sindh|  Karachi|\n",
            "| 3/7/2020|    1|     0|        0|         Iran/Taftan|               Sindh|  Karachi|\n",
            "| 3/9/2020|    6|     0|        0|               Syria|               Sindh|  Karachi|\n",
            "| 3/9/2020|    3|     0|        0|                  UK|               Sindh|  Karachi|\n",
            "|3/10/2020|    1|     0|        0|         Iran/Taftan|               Sindh|  Karachi|\n",
            "|3/10/2020|    1|     0|        0|               Syria|               Sindh|Hyderabad|\n",
            "|3/10/2020|    1|     0|        0|         Iran/Taftan|         Baluchistan|   Quetta|\n",
            "|3/11/2020|    1|     0|        0|         Iran/Taftan|    Gilgit-Baltistan|   Skardu|\n",
            "|3/11/2020|    0|     0|        1|         Iran/Taftan|               Sindh|  Karachi|\n",
            "|3/12/2020|    1|     0|        0|Local - Social Co...|    Gilgit-Baltistan|   Gilgit|\n",
            "|3/13/2020|    1|     0|        0|                 USA|Islamabad Capital...|Islamabad|\n",
            "|3/13/2020|    1|     0|        1|Local - Social Co...|               Sindh|  Karachi|\n",
            "|3/13/2020|    7|     0|        0|         Iran/Taftan|         Baluchistan|   Taftan|\n",
            "|3/15/2020|   13|     0|        0|         Iran/Taftan|               Sindh|   Sukkur|\n",
            "|3/15/2020|    4|     0|        0|         Iran/Taftan|               Sindh|  Karachi|\n",
            "+---------+-----+------+---------+--------------------+--------------------+---------+\n",
            "only showing top 20 rows\n",
            "\n"
          ]
        }
      ]
    },
    {
      "cell_type": "markdown",
      "source": [
        "**Let's See How to Drop the Rows using how = 'all' by default how = 'any' in Pyspark**"
      ],
      "metadata": {
        "id": "HHy9L8tCmZ67"
      }
    },
    {
      "cell_type": "code",
      "source": [
        "df.na.drop(how = 'all').show()"
      ],
      "metadata": {
        "colab": {
          "base_uri": "https://localhost:8080/"
        },
        "id": "l8nhml_Nkelx",
        "outputId": "9bc49a30-6dc6-4187-be25-69c4a9af8192"
      },
      "execution_count": 11,
      "outputs": [
        {
          "output_type": "stream",
          "name": "stdout",
          "text": [
            "+---------+-----+------+---------+--------------------+--------------------+---------+\n",
            "|     Date|Cases|Deaths|Recovered|      Travel_history|            Province|     City|\n",
            "+---------+-----+------+---------+--------------------+--------------------+---------+\n",
            "|2/26/2020|    1|     0|        0|               China|Islamabad Capital...|Islamabad|\n",
            "|2/26/2020|    2|     0|        0|         Iran/Taftan|               Sindh|  Karachi|\n",
            "|2/29/2020|    1|     0|        0|               China|Islamabad Capital...|Islamabad|\n",
            "|2/29/2020|    1|     0|        0|         Iran/Taftan|               Sindh|  Karachi|\n",
            "| 3/2/2020|    1|     0|        0|         Iran/Taftan|    Gilgit-Baltistan|   Gilgit|\n",
            "| 3/6/2020|    0|     0|        1|             Unknown|               Sindh|  Karachi|\n",
            "| 3/7/2020|    1|     0|        0|         Iran/Taftan|               Sindh|  Karachi|\n",
            "| 3/9/2020|    6|     0|        0|               Syria|               Sindh|  Karachi|\n",
            "| 3/9/2020|    3|     0|        0|                  UK|               Sindh|  Karachi|\n",
            "|3/10/2020|    1|     0|        0|         Iran/Taftan|               Sindh|  Karachi|\n",
            "|3/10/2020|    1|     0|        0|               Syria|               Sindh|Hyderabad|\n",
            "|3/10/2020|    1|     0|        0|         Iran/Taftan|         Baluchistan|   Quetta|\n",
            "|3/11/2020|    1|     0|        0|         Iran/Taftan|    Gilgit-Baltistan|   Skardu|\n",
            "|3/11/2020|    0|     0|        1|         Iran/Taftan|               Sindh|  Karachi|\n",
            "|3/12/2020|    1|     0|        0|Local - Social Co...|    Gilgit-Baltistan|   Gilgit|\n",
            "|3/13/2020|    1|     0|        0|                 USA|Islamabad Capital...|Islamabad|\n",
            "|3/13/2020|    1|     0|        1|Local - Social Co...|               Sindh|  Karachi|\n",
            "|3/13/2020|    7|     0|        0|         Iran/Taftan|         Baluchistan|   Taftan|\n",
            "|3/15/2020|   13|     0|        0|         Iran/Taftan|               Sindh|   Sukkur|\n",
            "|3/15/2020|    4|     0|        0|         Iran/Taftan|               Sindh|  Karachi|\n",
            "+---------+-----+------+---------+--------------------+--------------------+---------+\n",
            "only showing top 20 rows\n",
            "\n"
          ]
        }
      ]
    },
    {
      "cell_type": "markdown",
      "source": [
        "**Let's See How to Drop the Rows using thresh method in Pyspark**"
      ],
      "metadata": {
        "id": "f6s9JAo2m3Uk"
      }
    },
    {
      "cell_type": "code",
      "source": [
        "df.na.drop(how = 'any', thresh = 3).show()"
      ],
      "metadata": {
        "colab": {
          "base_uri": "https://localhost:8080/"
        },
        "id": "6y67L7DYmsAO",
        "outputId": "22cdefec-0a47-4e95-b32e-85209cf826cf"
      },
      "execution_count": 12,
      "outputs": [
        {
          "output_type": "stream",
          "name": "stdout",
          "text": [
            "+---------+-----+------+---------+--------------------+--------------------+---------+\n",
            "|     Date|Cases|Deaths|Recovered|      Travel_history|            Province|     City|\n",
            "+---------+-----+------+---------+--------------------+--------------------+---------+\n",
            "|2/26/2020|    1|     0|        0|               China|Islamabad Capital...|Islamabad|\n",
            "|2/26/2020|    2|     0|        0|         Iran/Taftan|               Sindh|  Karachi|\n",
            "|2/29/2020|    1|     0|        0|               China|Islamabad Capital...|Islamabad|\n",
            "|2/29/2020|    1|     0|        0|         Iran/Taftan|               Sindh|  Karachi|\n",
            "| 3/2/2020|    1|     0|        0|         Iran/Taftan|    Gilgit-Baltistan|   Gilgit|\n",
            "| 3/6/2020|    0|     0|        1|             Unknown|               Sindh|  Karachi|\n",
            "| 3/7/2020|    1|     0|        0|         Iran/Taftan|               Sindh|  Karachi|\n",
            "| 3/9/2020|    6|     0|        0|               Syria|               Sindh|  Karachi|\n",
            "| 3/9/2020|    3|     0|        0|                  UK|               Sindh|  Karachi|\n",
            "|3/10/2020|    1|     0|        0|         Iran/Taftan|               Sindh|  Karachi|\n",
            "|3/10/2020|    1|     0|        0|               Syria|               Sindh|Hyderabad|\n",
            "|3/10/2020|    1|     0|        0|         Iran/Taftan|         Baluchistan|   Quetta|\n",
            "|3/11/2020|    1|     0|        0|         Iran/Taftan|    Gilgit-Baltistan|   Skardu|\n",
            "|3/11/2020|    0|     0|        1|         Iran/Taftan|               Sindh|  Karachi|\n",
            "|3/12/2020|    1|     0|        0|Local - Social Co...|    Gilgit-Baltistan|   Gilgit|\n",
            "|3/13/2020|    1|     0|        0|                 USA|Islamabad Capital...|Islamabad|\n",
            "|3/13/2020|    1|     0|        1|Local - Social Co...|               Sindh|  Karachi|\n",
            "|3/13/2020|    7|     0|        0|         Iran/Taftan|         Baluchistan|   Taftan|\n",
            "|3/15/2020|   13|     0|        0|         Iran/Taftan|               Sindh|   Sukkur|\n",
            "|3/15/2020|    4|     0|        0|         Iran/Taftan|               Sindh|  Karachi|\n",
            "+---------+-----+------+---------+--------------------+--------------------+---------+\n",
            "only showing top 20 rows\n",
            "\n"
          ]
        }
      ]
    },
    {
      "cell_type": "markdown",
      "source": [
        "**Let's See How to Drop Rows of Particular if there is null values exist in these columns using subset method in Pyspark**"
      ],
      "metadata": {
        "id": "5_pkZE6EnJJ0"
      }
    },
    {
      "cell_type": "code",
      "source": [
        "df.na.drop(how = 'any', subset=['Cases', 'Deaths', 'Recovered']).show()"
      ],
      "metadata": {
        "colab": {
          "base_uri": "https://localhost:8080/"
        },
        "id": "_8wzo2WHnDUs",
        "outputId": "fa46af3b-5870-4edd-d8c0-b15e144f9422"
      },
      "execution_count": 14,
      "outputs": [
        {
          "output_type": "stream",
          "name": "stdout",
          "text": [
            "+---------+-----+------+---------+--------------------+--------------------+---------+\n",
            "|     Date|Cases|Deaths|Recovered|      Travel_history|            Province|     City|\n",
            "+---------+-----+------+---------+--------------------+--------------------+---------+\n",
            "|2/26/2020|    1|     0|        0|               China|Islamabad Capital...|Islamabad|\n",
            "|2/26/2020|    2|     0|        0|         Iran/Taftan|               Sindh|  Karachi|\n",
            "|2/29/2020|    1|     0|        0|               China|Islamabad Capital...|Islamabad|\n",
            "|2/29/2020|    1|     0|        0|         Iran/Taftan|               Sindh|  Karachi|\n",
            "| 3/2/2020|    1|     0|        0|         Iran/Taftan|    Gilgit-Baltistan|   Gilgit|\n",
            "| 3/6/2020|    0|     0|        1|             Unknown|               Sindh|  Karachi|\n",
            "| 3/7/2020|    1|     0|        0|         Iran/Taftan|               Sindh|  Karachi|\n",
            "| 3/9/2020|    6|     0|        0|               Syria|               Sindh|  Karachi|\n",
            "| 3/9/2020|    3|     0|        0|                  UK|               Sindh|  Karachi|\n",
            "|3/10/2020|    1|     0|        0|         Iran/Taftan|               Sindh|  Karachi|\n",
            "|3/10/2020|    1|     0|        0|               Syria|               Sindh|Hyderabad|\n",
            "|3/10/2020|    1|     0|        0|         Iran/Taftan|         Baluchistan|   Quetta|\n",
            "|3/11/2020|    1|     0|        0|         Iran/Taftan|    Gilgit-Baltistan|   Skardu|\n",
            "|3/11/2020|    0|     0|        1|         Iran/Taftan|               Sindh|  Karachi|\n",
            "|3/12/2020|    1|     0|        0|Local - Social Co...|    Gilgit-Baltistan|   Gilgit|\n",
            "|3/13/2020|    1|     0|        0|                 USA|Islamabad Capital...|Islamabad|\n",
            "|3/13/2020|    1|     0|        1|Local - Social Co...|               Sindh|  Karachi|\n",
            "|3/13/2020|    7|     0|        0|         Iran/Taftan|         Baluchistan|   Taftan|\n",
            "|3/15/2020|   13|     0|        0|         Iran/Taftan|               Sindh|   Sukkur|\n",
            "|3/15/2020|    4|     0|        0|         Iran/Taftan|               Sindh|  Karachi|\n",
            "+---------+-----+------+---------+--------------------+--------------------+---------+\n",
            "only showing top 20 rows\n",
            "\n"
          ]
        }
      ]
    },
    {
      "cell_type": "markdown",
      "source": [
        "**Let's See How to fill the values if null or missing value exist in dataframe in Pyspark**"
      ],
      "metadata": {
        "id": "18tGWX49n5-L"
      }
    },
    {
      "cell_type": "code",
      "source": [
        "df.na.fill('Missing_value', subset=['Cases', 'Deaths', 'Recovered']).show()"
      ],
      "metadata": {
        "colab": {
          "base_uri": "https://localhost:8080/"
        },
        "id": "T14FnHrknq1H",
        "outputId": "1ef25559-a860-442d-ec7b-b17f06dc3758"
      },
      "execution_count": 15,
      "outputs": [
        {
          "output_type": "stream",
          "name": "stdout",
          "text": [
            "+---------+-----+------+---------+--------------------+--------------------+---------+\n",
            "|     Date|Cases|Deaths|Recovered|      Travel_history|            Province|     City|\n",
            "+---------+-----+------+---------+--------------------+--------------------+---------+\n",
            "|2/26/2020|    1|     0|        0|               China|Islamabad Capital...|Islamabad|\n",
            "|2/26/2020|    2|     0|        0|         Iran/Taftan|               Sindh|  Karachi|\n",
            "|2/29/2020|    1|     0|        0|               China|Islamabad Capital...|Islamabad|\n",
            "|2/29/2020|    1|     0|        0|         Iran/Taftan|               Sindh|  Karachi|\n",
            "| 3/2/2020|    1|     0|        0|         Iran/Taftan|    Gilgit-Baltistan|   Gilgit|\n",
            "| 3/6/2020|    0|     0|        1|             Unknown|               Sindh|  Karachi|\n",
            "| 3/7/2020|    1|     0|        0|         Iran/Taftan|               Sindh|  Karachi|\n",
            "| 3/9/2020|    6|     0|        0|               Syria|               Sindh|  Karachi|\n",
            "| 3/9/2020|    3|     0|        0|                  UK|               Sindh|  Karachi|\n",
            "|3/10/2020|    1|     0|        0|         Iran/Taftan|               Sindh|  Karachi|\n",
            "|3/10/2020|    1|     0|        0|               Syria|               Sindh|Hyderabad|\n",
            "|3/10/2020|    1|     0|        0|         Iran/Taftan|         Baluchistan|   Quetta|\n",
            "|3/11/2020|    1|     0|        0|         Iran/Taftan|    Gilgit-Baltistan|   Skardu|\n",
            "|3/11/2020|    0|     0|        1|         Iran/Taftan|               Sindh|  Karachi|\n",
            "|3/12/2020|    1|     0|        0|Local - Social Co...|    Gilgit-Baltistan|   Gilgit|\n",
            "|3/13/2020|    1|     0|        0|                 USA|Islamabad Capital...|Islamabad|\n",
            "|3/13/2020|    1|     0|        1|Local - Social Co...|               Sindh|  Karachi|\n",
            "|3/13/2020|    7|     0|        0|         Iran/Taftan|         Baluchistan|   Taftan|\n",
            "|3/15/2020|   13|     0|        0|         Iran/Taftan|               Sindh|   Sukkur|\n",
            "|3/15/2020|    4|     0|        0|         Iran/Taftan|               Sindh|  Karachi|\n",
            "+---------+-----+------+---------+--------------------+--------------------+---------+\n",
            "only showing top 20 rows\n",
            "\n"
          ]
        }
      ]
    },
    {
      "cell_type": "markdown",
      "source": [
        "**Let's See How to apply mean, median & mode in null value & fill the values if null or missing value exist in dataframe in Pyspark**"
      ],
      "metadata": {
        "id": "J9kNcvq-tgrU"
      }
    },
    {
      "cell_type": "code",
      "source": [
        "# use imputer class from pyspark ml \n",
        "# for mean\n",
        "from pyspark.ml.feature import Imputer\n",
        "\n",
        "imputer = Imputer(inputCols = ['Cases', 'Deaths', 'Recovered'],\n",
        "                  outputCols = [\"{}_imputed\".format(c) for c in ['Cases', 'Deaths', 'Recovered']]).setStrategy('mean')"
      ],
      "metadata": {
        "id": "cM6URlm2oYH3"
      },
      "execution_count": 21,
      "outputs": []
    },
    {
      "cell_type": "code",
      "source": [
        "# fit and transform imputer in df \n",
        "imputer.fit(df).transform(df).show()"
      ],
      "metadata": {
        "colab": {
          "base_uri": "https://localhost:8080/"
        },
        "id": "x7yl3bPXpzwu",
        "outputId": "67dfd5a4-dc42-40a3-c876-b4793261f7db"
      },
      "execution_count": 22,
      "outputs": [
        {
          "output_type": "stream",
          "name": "stdout",
          "text": [
            "+---------+-----+------+---------+--------------------+--------------------+---------+-------------+--------------+-----------------+\n",
            "|     Date|Cases|Deaths|Recovered|      Travel_history|            Province|     City|Cases_imputed|Deaths_imputed|Recovered_imputed|\n",
            "+---------+-----+------+---------+--------------------+--------------------+---------+-------------+--------------+-----------------+\n",
            "|2/26/2020|    1|     0|        0|               China|Islamabad Capital...|Islamabad|            1|             0|                0|\n",
            "|2/26/2020|    2|     0|        0|         Iran/Taftan|               Sindh|  Karachi|            2|             0|                0|\n",
            "|2/29/2020|    1|     0|        0|               China|Islamabad Capital...|Islamabad|            1|             0|                0|\n",
            "|2/29/2020|    1|     0|        0|         Iran/Taftan|               Sindh|  Karachi|            1|             0|                0|\n",
            "| 3/2/2020|    1|     0|        0|         Iran/Taftan|    Gilgit-Baltistan|   Gilgit|            1|             0|                0|\n",
            "| 3/6/2020|    0|     0|        1|             Unknown|               Sindh|  Karachi|            0|             0|                1|\n",
            "| 3/7/2020|    1|     0|        0|         Iran/Taftan|               Sindh|  Karachi|            1|             0|                0|\n",
            "| 3/9/2020|    6|     0|        0|               Syria|               Sindh|  Karachi|            6|             0|                0|\n",
            "| 3/9/2020|    3|     0|        0|                  UK|               Sindh|  Karachi|            3|             0|                0|\n",
            "|3/10/2020|    1|     0|        0|         Iran/Taftan|               Sindh|  Karachi|            1|             0|                0|\n",
            "|3/10/2020|    1|     0|        0|               Syria|               Sindh|Hyderabad|            1|             0|                0|\n",
            "|3/10/2020|    1|     0|        0|         Iran/Taftan|         Baluchistan|   Quetta|            1|             0|                0|\n",
            "|3/11/2020|    1|     0|        0|         Iran/Taftan|    Gilgit-Baltistan|   Skardu|            1|             0|                0|\n",
            "|3/11/2020|    0|     0|        1|         Iran/Taftan|               Sindh|  Karachi|            0|             0|                1|\n",
            "|3/12/2020|    1|     0|        0|Local - Social Co...|    Gilgit-Baltistan|   Gilgit|            1|             0|                0|\n",
            "|3/13/2020|    1|     0|        0|                 USA|Islamabad Capital...|Islamabad|            1|             0|                0|\n",
            "|3/13/2020|    1|     0|        1|Local - Social Co...|               Sindh|  Karachi|            1|             0|                1|\n",
            "|3/13/2020|    7|     0|        0|         Iran/Taftan|         Baluchistan|   Taftan|            7|             0|                0|\n",
            "|3/15/2020|   13|     0|        0|         Iran/Taftan|               Sindh|   Sukkur|           13|             0|                0|\n",
            "|3/15/2020|    4|     0|        0|         Iran/Taftan|               Sindh|  Karachi|            4|             0|                0|\n",
            "+---------+-----+------+---------+--------------------+--------------------+---------+-------------+--------------+-----------------+\n",
            "only showing top 20 rows\n",
            "\n"
          ]
        }
      ]
    },
    {
      "cell_type": "code",
      "source": [
        "# use imputer class from pyspark ml\n",
        "# for median\n",
        "from pyspark.ml.feature import Imputer\n",
        "\n",
        "imputer = Imputer(inputCols = ['Cases', 'Deaths', 'Recovered'],\n",
        "                  outputCols = [\"{}_imputed\".format(c) for c in ['Cases', 'Deaths', 'Recovered']]).setStrategy('median')"
      ],
      "metadata": {
        "id": "96Jcl5vUs_Yf"
      },
      "execution_count": 23,
      "outputs": []
    },
    {
      "cell_type": "code",
      "source": [
        "# fit and transform imputer in df \n",
        "imputer.fit(df).transform(df).show()"
      ],
      "metadata": {
        "colab": {
          "base_uri": "https://localhost:8080/"
        },
        "id": "4d_yjg2JtLmh",
        "outputId": "9161347a-fb11-4ee1-9274-0a36c675a7c2"
      },
      "execution_count": 24,
      "outputs": [
        {
          "output_type": "stream",
          "name": "stdout",
          "text": [
            "+---------+-----+------+---------+--------------------+--------------------+---------+-------------+--------------+-----------------+\n",
            "|     Date|Cases|Deaths|Recovered|      Travel_history|            Province|     City|Cases_imputed|Deaths_imputed|Recovered_imputed|\n",
            "+---------+-----+------+---------+--------------------+--------------------+---------+-------------+--------------+-----------------+\n",
            "|2/26/2020|    1|     0|        0|               China|Islamabad Capital...|Islamabad|            1|             0|                0|\n",
            "|2/26/2020|    2|     0|        0|         Iran/Taftan|               Sindh|  Karachi|            2|             0|                0|\n",
            "|2/29/2020|    1|     0|        0|               China|Islamabad Capital...|Islamabad|            1|             0|                0|\n",
            "|2/29/2020|    1|     0|        0|         Iran/Taftan|               Sindh|  Karachi|            1|             0|                0|\n",
            "| 3/2/2020|    1|     0|        0|         Iran/Taftan|    Gilgit-Baltistan|   Gilgit|            1|             0|                0|\n",
            "| 3/6/2020|    0|     0|        1|             Unknown|               Sindh|  Karachi|            0|             0|                1|\n",
            "| 3/7/2020|    1|     0|        0|         Iran/Taftan|               Sindh|  Karachi|            1|             0|                0|\n",
            "| 3/9/2020|    6|     0|        0|               Syria|               Sindh|  Karachi|            6|             0|                0|\n",
            "| 3/9/2020|    3|     0|        0|                  UK|               Sindh|  Karachi|            3|             0|                0|\n",
            "|3/10/2020|    1|     0|        0|         Iran/Taftan|               Sindh|  Karachi|            1|             0|                0|\n",
            "|3/10/2020|    1|     0|        0|               Syria|               Sindh|Hyderabad|            1|             0|                0|\n",
            "|3/10/2020|    1|     0|        0|         Iran/Taftan|         Baluchistan|   Quetta|            1|             0|                0|\n",
            "|3/11/2020|    1|     0|        0|         Iran/Taftan|    Gilgit-Baltistan|   Skardu|            1|             0|                0|\n",
            "|3/11/2020|    0|     0|        1|         Iran/Taftan|               Sindh|  Karachi|            0|             0|                1|\n",
            "|3/12/2020|    1|     0|        0|Local - Social Co...|    Gilgit-Baltistan|   Gilgit|            1|             0|                0|\n",
            "|3/13/2020|    1|     0|        0|                 USA|Islamabad Capital...|Islamabad|            1|             0|                0|\n",
            "|3/13/2020|    1|     0|        1|Local - Social Co...|               Sindh|  Karachi|            1|             0|                1|\n",
            "|3/13/2020|    7|     0|        0|         Iran/Taftan|         Baluchistan|   Taftan|            7|             0|                0|\n",
            "|3/15/2020|   13|     0|        0|         Iran/Taftan|               Sindh|   Sukkur|           13|             0|                0|\n",
            "|3/15/2020|    4|     0|        0|         Iran/Taftan|               Sindh|  Karachi|            4|             0|                0|\n",
            "+---------+-----+------+---------+--------------------+--------------------+---------+-------------+--------------+-----------------+\n",
            "only showing top 20 rows\n",
            "\n"
          ]
        }
      ]
    },
    {
      "cell_type": "code",
      "source": [
        "# use imputer class from pyspark ml\n",
        "# for mode\n",
        "from pyspark.ml.feature import Imputer\n",
        "\n",
        "imputer = Imputer(inputCols = ['Cases', 'Deaths', 'Recovered'],\n",
        "                  outputCols = [\"{}_imputed\".format(c) for c in ['Cases', 'Deaths', 'Recovered']]).setStrategy('mode')"
      ],
      "metadata": {
        "id": "wf2goeSetPKy"
      },
      "execution_count": 25,
      "outputs": []
    },
    {
      "cell_type": "code",
      "source": [
        "# fit and transform imputer in df \n",
        "imputer.fit(df).transform(df).show()"
      ],
      "metadata": {
        "colab": {
          "base_uri": "https://localhost:8080/"
        },
        "id": "CRwRNZl8tVAm",
        "outputId": "18fed5b3-0d1d-41d2-9950-049bc924c28d"
      },
      "execution_count": 26,
      "outputs": [
        {
          "output_type": "stream",
          "name": "stdout",
          "text": [
            "+---------+-----+------+---------+--------------------+--------------------+---------+-------------+--------------+-----------------+\n",
            "|     Date|Cases|Deaths|Recovered|      Travel_history|            Province|     City|Cases_imputed|Deaths_imputed|Recovered_imputed|\n",
            "+---------+-----+------+---------+--------------------+--------------------+---------+-------------+--------------+-----------------+\n",
            "|2/26/2020|    1|     0|        0|               China|Islamabad Capital...|Islamabad|            1|             0|                0|\n",
            "|2/26/2020|    2|     0|        0|         Iran/Taftan|               Sindh|  Karachi|            2|             0|                0|\n",
            "|2/29/2020|    1|     0|        0|               China|Islamabad Capital...|Islamabad|            1|             0|                0|\n",
            "|2/29/2020|    1|     0|        0|         Iran/Taftan|               Sindh|  Karachi|            1|             0|                0|\n",
            "| 3/2/2020|    1|     0|        0|         Iran/Taftan|    Gilgit-Baltistan|   Gilgit|            1|             0|                0|\n",
            "| 3/6/2020|    0|     0|        1|             Unknown|               Sindh|  Karachi|            0|             0|                1|\n",
            "| 3/7/2020|    1|     0|        0|         Iran/Taftan|               Sindh|  Karachi|            1|             0|                0|\n",
            "| 3/9/2020|    6|     0|        0|               Syria|               Sindh|  Karachi|            6|             0|                0|\n",
            "| 3/9/2020|    3|     0|        0|                  UK|               Sindh|  Karachi|            3|             0|                0|\n",
            "|3/10/2020|    1|     0|        0|         Iran/Taftan|               Sindh|  Karachi|            1|             0|                0|\n",
            "|3/10/2020|    1|     0|        0|               Syria|               Sindh|Hyderabad|            1|             0|                0|\n",
            "|3/10/2020|    1|     0|        0|         Iran/Taftan|         Baluchistan|   Quetta|            1|             0|                0|\n",
            "|3/11/2020|    1|     0|        0|         Iran/Taftan|    Gilgit-Baltistan|   Skardu|            1|             0|                0|\n",
            "|3/11/2020|    0|     0|        1|         Iran/Taftan|               Sindh|  Karachi|            0|             0|                1|\n",
            "|3/12/2020|    1|     0|        0|Local - Social Co...|    Gilgit-Baltistan|   Gilgit|            1|             0|                0|\n",
            "|3/13/2020|    1|     0|        0|                 USA|Islamabad Capital...|Islamabad|            1|             0|                0|\n",
            "|3/13/2020|    1|     0|        1|Local - Social Co...|               Sindh|  Karachi|            1|             0|                1|\n",
            "|3/13/2020|    7|     0|        0|         Iran/Taftan|         Baluchistan|   Taftan|            7|             0|                0|\n",
            "|3/15/2020|   13|     0|        0|         Iran/Taftan|               Sindh|   Sukkur|           13|             0|                0|\n",
            "|3/15/2020|    4|     0|        0|         Iran/Taftan|               Sindh|  Karachi|            4|             0|                0|\n",
            "+---------+-----+------+---------+--------------------+--------------------+---------+-------------+--------------+-----------------+\n",
            "only showing top 20 rows\n",
            "\n"
          ]
        }
      ]
    },
    {
      "cell_type": "code",
      "source": [
        ""
      ],
      "metadata": {
        "id": "BtiSTny_tqdz"
      },
      "execution_count": null,
      "outputs": []
    }
  ]
}