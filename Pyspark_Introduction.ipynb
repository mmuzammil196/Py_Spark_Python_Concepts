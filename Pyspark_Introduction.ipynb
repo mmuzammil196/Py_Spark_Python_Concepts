{
  "nbformat": 4,
  "nbformat_minor": 0,
  "metadata": {
    "colab": {
      "name": "Pyspark_Introduction.ipynb",
      "provenance": [],
      "collapsed_sections": []
    },
    "kernelspec": {
      "name": "python3",
      "display_name": "Python 3"
    },
    "language_info": {
      "name": "python"
    }
  },
  "cells": [
    {
      "cell_type": "markdown",
      "source": [
        "# **Pyspark Installation**\n",
        "\n",
        "\n",
        "\n",
        "\n",
        "\n",
        "\n"
      ],
      "metadata": {
        "id": "vszpHKyhMZf9"
      }
    },
    {
      "cell_type": "code",
      "source": [
        "!pip install pyspark"
      ],
      "metadata": {
        "id": "5pULVjABJSbI",
        "colab": {
          "base_uri": "https://localhost:8080/"
        },
        "outputId": "0ff98e8e-eec7-4f2c-a320-b433de2748ee"
      },
      "execution_count": 1,
      "outputs": [
        {
          "output_type": "stream",
          "name": "stdout",
          "text": [
            "Looking in indexes: https://pypi.org/simple, https://us-python.pkg.dev/colab-wheels/public/simple/\n",
            "Collecting pyspark\n",
            "  Downloading pyspark-3.3.0.tar.gz (281.3 MB)\n",
            "\u001b[K     |████████████████████████████████| 281.3 MB 44 kB/s \n",
            "\u001b[?25hCollecting py4j==0.10.9.5\n",
            "  Downloading py4j-0.10.9.5-py2.py3-none-any.whl (199 kB)\n",
            "\u001b[K     |████████████████████████████████| 199 kB 59.8 MB/s \n",
            "\u001b[?25hBuilding wheels for collected packages: pyspark\n",
            "  Building wheel for pyspark (setup.py) ... \u001b[?25l\u001b[?25hdone\n",
            "  Created wheel for pyspark: filename=pyspark-3.3.0-py2.py3-none-any.whl size=281764026 sha256=7f28de7ce8da5a08c61cc32438b839c7a8e393f33ef252c6f2f25530e3e5e9d8\n",
            "  Stored in directory: /root/.cache/pip/wheels/7a/8e/1b/f73a52650d2e5f337708d9f6a1750d451a7349a867f928b885\n",
            "Successfully built pyspark\n",
            "Installing collected packages: py4j, pyspark\n",
            "Successfully installed py4j-0.10.9.5 pyspark-3.3.0\n"
          ]
        }
      ]
    },
    {
      "cell_type": "markdown",
      "source": [
        "## **Import the Pyspark Library**"
      ],
      "metadata": {
        "id": "RhwI-2R_M3Lb"
      }
    },
    {
      "cell_type": "code",
      "source": [
        "import pyspark"
      ],
      "metadata": {
        "id": "e3HuOZdEMUIB"
      },
      "execution_count": 2,
      "outputs": []
    },
    {
      "cell_type": "markdown",
      "source": [
        "## **Create a Session**"
      ],
      "metadata": {
        "id": "qKkf9xFONDaT"
      }
    },
    {
      "cell_type": "code",
      "source": [
        "from pyspark.sql import SparkSession"
      ],
      "metadata": {
        "id": "HnAprUKqM180"
      },
      "execution_count": 3,
      "outputs": []
    },
    {
      "cell_type": "markdown",
      "source": [
        "**Let's create a Session App Name**"
      ],
      "metadata": {
        "id": "wN3oceDpNjCv"
      }
    },
    {
      "cell_type": "code",
      "source": [
        "spark = SparkSession.builder.appName('Spark_Introduction').getOrCreate()"
      ],
      "metadata": {
        "id": "WSQAVusFNe1b"
      },
      "execution_count": 6,
      "outputs": []
    },
    {
      "cell_type": "markdown",
      "source": [
        "**Let's Check the session name**"
      ],
      "metadata": {
        "id": "Vkd-viggN_hC"
      }
    },
    {
      "cell_type": "code",
      "source": [
        "spark"
      ],
      "metadata": {
        "colab": {
          "base_uri": "https://localhost:8080/",
          "height": 222
        },
        "id": "mFH65cx9N4fp",
        "outputId": "ad01e60d-bc5a-4745-eb1b-c1669b12be52"
      },
      "execution_count": 7,
      "outputs": [
        {
          "output_type": "execute_result",
          "data": {
            "text/plain": [
              "<pyspark.sql.session.SparkSession at 0x7fb15aef28d0>"
            ],
            "text/html": [
              "\n",
              "            <div>\n",
              "                <p><b>SparkSession - in-memory</b></p>\n",
              "                \n",
              "        <div>\n",
              "            <p><b>SparkContext</b></p>\n",
              "\n",
              "            <p><a href=\"http://d3aee6745e65:4040\">Spark UI</a></p>\n",
              "\n",
              "            <dl>\n",
              "              <dt>Version</dt>\n",
              "                <dd><code>v3.3.0</code></dd>\n",
              "              <dt>Master</dt>\n",
              "                <dd><code>local[*]</code></dd>\n",
              "              <dt>AppName</dt>\n",
              "                <dd><code>Spark_Introduction</code></dd>\n",
              "            </dl>\n",
              "        </div>\n",
              "        \n",
              "            </div>\n",
              "        "
            ]
          },
          "metadata": {},
          "execution_count": 7
        }
      ]
    },
    {
      "cell_type": "code",
      "source": [
        "df_spark = spark.read.csv('indeed_jobs.csv')"
      ],
      "metadata": {
        "id": "tMHYuiwQOL7E"
      },
      "execution_count": 9,
      "outputs": []
    },
    {
      "cell_type": "markdown",
      "source": [
        "Show the dataframe"
      ],
      "metadata": {
        "id": "d5h1vAfgd_DH"
      }
    },
    {
      "cell_type": "code",
      "source": [
        "df_spark.show()"
      ],
      "metadata": {
        "colab": {
          "base_uri": "https://localhost:8080/"
        },
        "id": "WQHXfIPFOyga",
        "outputId": "a5f6da49-109a-44ff-a583-d1793f0d2c4b"
      },
      "execution_count": 11,
      "outputs": [
        {
          "output_type": "stream",
          "name": "stdout",
          "text": [
            "+--------------------+--------------------+------------+--------------------+\n",
            "|                 _c0|                 _c1|         _c2|                 _c3|\n",
            "+--------------------+--------------------+------------+--------------------+\n",
            "|           job_title|         job_company|job_location|         job_summary|\n",
            "|Information Manag...|United Nations Pa...|    Pakistan|Assist in data cl...|\n",
            "|      Data Scientist|            Teradata|   Islamabad|Experience in dat...|\n",
            "|        Data Analyst|Aga Khan Health S...|     Karachi|B.Sc. degree (or ...|\n",
            "|Data Processing A...|                 GfK|     Karachi|To suggest improv...|\n",
            "|  Front Line Manager|             PepsiCo|      Multan|Degree in either ...|\n",
            "|        DATA ANALYST|            Dignosco|      Lahore|Job Title Data An...|\n",
            "|       Data Engineer|         Sastaticket|     Karachi|You will use vari...|\n",
            "|Business Intellig...|               Bykea|    Pakistan|Run experiments a...|\n",
            "|        Data Analyst|               Zones|   Islamabad|Expertise to deve...|\n",
            "|      Data Architect|                 HBL|     Karachi|Design and build ...|\n",
            "|Program Officer– ...|Pakistan Centre f...|    Pakistan|Ü Designing data ...|\n",
            "|Information Manag...|                  UN|    Pakistan|Assist in data cl...|\n",
            "|     Sr Data Modeler|            Teradata|   Islamabad|This role is resp...|\n",
            "|Regulatory Affair...|            Syngenta|    Pakistan|Cooperate for lay...|\n",
            "|Data Analyst (Cli...|             Afiniti|     Karachi|Help Senior Accou...|\n",
            "|Digital, Data and...|        Novo Nordisk|     Karachi|Business Partneri...|\n",
            "|Social Science Re...|Balochistan Counc...|      Quetta|Perform descripti...|\n",
            "|Business Analyst ...|    Seeka Technology|   Islamabad|Our ideal candida...|\n",
            "|IT Assistant/Tech...|         Reach First|  Rawalpindi|Perform data back...|\n",
            "+--------------------+--------------------+------------+--------------------+\n",
            "only showing top 20 rows\n",
            "\n"
          ]
        }
      ]
    },
    {
      "cell_type": "code",
      "source": [
        "df_spark"
      ],
      "metadata": {
        "colab": {
          "base_uri": "https://localhost:8080/"
        },
        "id": "7awcMvkTe7W8",
        "outputId": "b993802d-85cf-4d00-91ed-8eef888d3555"
      },
      "execution_count": 15,
      "outputs": [
        {
          "output_type": "execute_result",
          "data": {
            "text/plain": [
              "DataFrame[_c0: string, _c1: string, _c2: string, _c3: string]"
            ]
          },
          "metadata": {},
          "execution_count": 15
        }
      ]
    },
    {
      "cell_type": "markdown",
      "source": [
        "**Let's set column names in spark**"
      ],
      "metadata": {
        "id": "Vitg-ChPeKok"
      }
    },
    {
      "cell_type": "code",
      "source": [
        "df = spark.read.option('header', 'true').csv('indeed_jobs.csv')"
      ],
      "metadata": {
        "id": "dC2XrsbMdohZ"
      },
      "execution_count": 13,
      "outputs": []
    },
    {
      "cell_type": "markdown",
      "source": [
        "**Let's again see if column name set or not**"
      ],
      "metadata": {
        "id": "-sdItDvXe-ux"
      }
    },
    {
      "cell_type": "code",
      "source": [
        "df"
      ],
      "metadata": {
        "colab": {
          "base_uri": "https://localhost:8080/"
        },
        "id": "tcV09l8depsy",
        "outputId": "1125552e-50cc-4e14-8bd4-1cb1e8bff979"
      },
      "execution_count": 14,
      "outputs": [
        {
          "output_type": "execute_result",
          "data": {
            "text/plain": [
              "DataFrame[job_title: string, job_company: string, job_location: string, job_summary: string]"
            ]
          },
          "metadata": {},
          "execution_count": 14
        }
      ]
    },
    {
      "cell_type": "markdown",
      "source": [
        "**Let's see the head of dataframe**"
      ],
      "metadata": {
        "id": "z4H8EFrzfNP4"
      }
    },
    {
      "cell_type": "code",
      "source": [
        "df.head(5)"
      ],
      "metadata": {
        "colab": {
          "base_uri": "https://localhost:8080/"
        },
        "id": "noXChSzBe3YL",
        "outputId": "c3f06cfb-4180-4268-cab1-5eb20a4f1c89"
      },
      "execution_count": 17,
      "outputs": [
        {
          "output_type": "execute_result",
          "data": {
            "text/plain": [
              "[Row(job_title='Information Management Assistant', job_company='United Nations Pakistan', job_location='Pakistan', job_summary='Assist in data cleaning and analysis by ensuring data consistency and provide statistical summary of the data.Perform other duties as they might be assigned.'),\n",
              " Row(job_title='Data Scientist', job_company='Teradata', job_location='Islamabad', job_summary='Experience in data analysis is a plus.Strong hands-on data wrangling and number crunching skills to develop the right insights.'),\n",
              " Row(job_title='Data Analyst', job_company='Aga Khan Health Service, Pakistan', job_location='Karachi', job_summary='B.Sc. degree (or equivalent level of professional experience) in science, maths, or another subject requiring regular handling of data.'),\n",
              " Row(job_title='Data Processing Associate', job_company='GfK', job_location='Karachi', job_summary='To suggest improvements in product data development.We connect data, science and innovative digital research solutions to provide answers for key business…'),\n",
              " Row(job_title='Front Line Manager', job_company='PepsiCo', job_location='Multan', job_summary='Degree in either engineering or food science.Ensures all shift data is completed and entered M&W database for shift wise monitoring of efficiencies, materials…')]"
            ]
          },
          "metadata": {},
          "execution_count": 17
        }
      ]
    },
    {
      "cell_type": "markdown",
      "source": [
        "**Let's see the type of df**"
      ],
      "metadata": {
        "id": "pxWj90tSfkP1"
      }
    },
    {
      "cell_type": "code",
      "source": [
        "type(df)"
      ],
      "metadata": {
        "colab": {
          "base_uri": "https://localhost:8080/"
        },
        "id": "iNaaeCtIfVwr",
        "outputId": "e50d8071-1a24-4abe-de66-9375e5f779af"
      },
      "execution_count": 18,
      "outputs": [
        {
          "output_type": "execute_result",
          "data": {
            "text/plain": [
              "pyspark.sql.dataframe.DataFrame"
            ]
          },
          "metadata": {},
          "execution_count": 18
        }
      ]
    },
    {
      "cell_type": "markdown",
      "source": [
        "**Print the Schema of df**"
      ],
      "metadata": {
        "id": "yxP01WIdf1O2"
      }
    },
    {
      "cell_type": "code",
      "source": [
        "df.printSchema()"
      ],
      "metadata": {
        "colab": {
          "base_uri": "https://localhost:8080/"
        },
        "id": "-hzLrSmofjB3",
        "outputId": "16e2dd1b-59b6-4332-8c40-9ba02c1dd0f9"
      },
      "execution_count": 19,
      "outputs": [
        {
          "output_type": "stream",
          "name": "stdout",
          "text": [
            "root\n",
            " |-- job_title: string (nullable = true)\n",
            " |-- job_company: string (nullable = true)\n",
            " |-- job_location: string (nullable = true)\n",
            " |-- job_summary: string (nullable = true)\n",
            "\n"
          ]
        }
      ]
    }
  ]
}