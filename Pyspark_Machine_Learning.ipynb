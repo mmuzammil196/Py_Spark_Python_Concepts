{
  "nbformat": 4,
  "nbformat_minor": 0,
  "metadata": {
    "colab": {
      "name": " Pyspark_Machine_Learning.ipynb",
      "provenance": []
    },
    "kernelspec": {
      "name": "python3",
      "display_name": "Python 3"
    },
    "language_info": {
      "name": "python"
    }
  },
  "cells": [
    {
      "cell_type": "markdown",
      "source": [
        "# **Pyspark Groupby and Aggregate Function**"
      ],
      "metadata": {
        "id": "QbpId0kpc6mQ"
      }
    },
    {
      "cell_type": "code",
      "execution_count": 2,
      "metadata": {
        "colab": {
          "base_uri": "https://localhost:8080/"
        },
        "id": "ZSD8a3PCcykF",
        "outputId": "82450734-9ad3-4b3e-8f5a-98644792856d"
      },
      "outputs": [
        {
          "output_type": "stream",
          "name": "stdout",
          "text": [
            "Looking in indexes: https://pypi.org/simple, https://us-python.pkg.dev/colab-wheels/public/simple/\n",
            "Requirement already satisfied: pyspark in /usr/local/lib/python3.7/dist-packages (3.3.0)\n",
            "Requirement already satisfied: py4j==0.10.9.5 in /usr/local/lib/python3.7/dist-packages (from pyspark) (0.10.9.5)\n"
          ]
        }
      ],
      "source": [
        "!pip install pyspark"
      ]
    },
    {
      "cell_type": "markdown",
      "source": [
        "# **Create the Pyspark Session**"
      ],
      "metadata": {
        "id": "1rNEPmUTg7Rw"
      }
    },
    {
      "cell_type": "code",
      "source": [
        "from pyspark.sql import SparkSession"
      ],
      "metadata": {
        "id": "mGGrvdj7dHPm"
      },
      "execution_count": 3,
      "outputs": []
    },
    {
      "cell_type": "markdown",
      "source": [
        "**Let's create a Session App Name**"
      ],
      "metadata": {
        "id": "wN3oceDpNjCv"
      }
    },
    {
      "cell_type": "code",
      "source": [
        "spark = SparkSession.builder.appName('Pyspark_Machine_Learning').getOrCreate()"
      ],
      "metadata": {
        "id": "zRxSr1EvdWyf"
      },
      "execution_count": 4,
      "outputs": []
    },
    {
      "cell_type": "markdown",
      "source": [
        "**Let's Check the session name**"
      ],
      "metadata": {
        "id": "Vkd-viggN_hC"
      }
    },
    {
      "cell_type": "code",
      "source": [
        "spark"
      ],
      "metadata": {
        "colab": {
          "base_uri": "https://localhost:8080/",
          "height": 222
        },
        "id": "eS76i76sdb71",
        "outputId": "b52046ba-dc44-43e8-b0f4-0d0296a50700"
      },
      "execution_count": 5,
      "outputs": [
        {
          "output_type": "execute_result",
          "data": {
            "text/plain": [
              "<pyspark.sql.session.SparkSession at 0x7f0b56ab9210>"
            ],
            "text/html": [
              "\n",
              "            <div>\n",
              "                <p><b>SparkSession - in-memory</b></p>\n",
              "                \n",
              "        <div>\n",
              "            <p><b>SparkContext</b></p>\n",
              "\n",
              "            <p><a href=\"http://b1c7a011ee95:4040\">Spark UI</a></p>\n",
              "\n",
              "            <dl>\n",
              "              <dt>Version</dt>\n",
              "                <dd><code>v3.3.0</code></dd>\n",
              "              <dt>Master</dt>\n",
              "                <dd><code>local[*]</code></dd>\n",
              "              <dt>AppName</dt>\n",
              "                <dd><code>Pyspark_Machine_Learning</code></dd>\n",
              "            </dl>\n",
              "        </div>\n",
              "        \n",
              "            </div>\n",
              "        "
            ]
          },
          "metadata": {},
          "execution_count": 5
        }
      ]
    },
    {
      "cell_type": "markdown",
      "source": [
        "**Read the dataframe using spark**"
      ],
      "metadata": {
        "id": "UTjfgm5QiaLd"
      }
    },
    {
      "cell_type": "code",
      "source": [
        "df = spark.read.option('header', 'true').csv('test1.csv', inferSchema=True)"
      ],
      "metadata": {
        "id": "mFdi4cwVdgnj"
      },
      "execution_count": 6,
      "outputs": []
    },
    {
      "cell_type": "code",
      "source": [
        "df.show()"
      ],
      "metadata": {
        "colab": {
          "base_uri": "https://localhost:8080/"
        },
        "id": "W69WS1mzeavm",
        "outputId": "445c210a-5373-42fa-fdba-6fa2e2fb2768"
      },
      "execution_count": 7,
      "outputs": [
        {
          "output_type": "stream",
          "name": "stdout",
          "text": [
            "+---------+---+----------+------+\n",
            "|     Name|age|Experience|Salary|\n",
            "+---------+---+----------+------+\n",
            "|    Krish| 31|        10| 30000|\n",
            "|Sudhanshu| 30|         8| 25000|\n",
            "|    Sunny| 29|         4| 20000|\n",
            "|     Paul| 24|         3| 20000|\n",
            "|   Harsha| 21|         1| 15000|\n",
            "|  Shubham| 23|         2| 18000|\n",
            "+---------+---+----------+------+\n",
            "\n"
          ]
        }
      ]
    },
    {
      "cell_type": "markdown",
      "source": [
        "**Check the column names**"
      ],
      "metadata": {
        "id": "57cG9W1PfZ2N"
      }
    },
    {
      "cell_type": "code",
      "source": [
        "df.columns"
      ],
      "metadata": {
        "colab": {
          "base_uri": "https://localhost:8080/"
        },
        "id": "rTizFIniedZp",
        "outputId": "81822907-c722-49db-df33-af3b34e570f5"
      },
      "execution_count": 8,
      "outputs": [
        {
          "output_type": "execute_result",
          "data": {
            "text/plain": [
              "['Name', 'age', 'Experience', 'Salary']"
            ]
          },
          "metadata": {},
          "execution_count": 8
        }
      ]
    },
    {
      "cell_type": "code",
      "source": [
        "from pyspark.ml.feature import VectorAssembler\n",
        "feature_assembler = VectorAssembler(inputCols=['age', 'Experience'], outputCol='Independent_cols')"
      ],
      "metadata": {
        "id": "0pRrtv-1gYZ5"
      },
      "execution_count": 9,
      "outputs": []
    },
    {
      "cell_type": "code",
      "source": [
        "df_output = feature_assembler.transform(df)"
      ],
      "metadata": {
        "id": "elzEa5JBiZ6c"
      },
      "execution_count": 10,
      "outputs": []
    },
    {
      "cell_type": "code",
      "source": [
        "df_output.show()"
      ],
      "metadata": {
        "colab": {
          "base_uri": "https://localhost:8080/"
        },
        "id": "icwXc1b84KnB",
        "outputId": "2a153071-3b32-44ec-8ad8-5db9100831c3"
      },
      "execution_count": 11,
      "outputs": [
        {
          "output_type": "stream",
          "name": "stdout",
          "text": [
            "+---------+---+----------+------+----------------+\n",
            "|     Name|age|Experience|Salary|Independent_cols|\n",
            "+---------+---+----------+------+----------------+\n",
            "|    Krish| 31|        10| 30000|     [31.0,10.0]|\n",
            "|Sudhanshu| 30|         8| 25000|      [30.0,8.0]|\n",
            "|    Sunny| 29|         4| 20000|      [29.0,4.0]|\n",
            "|     Paul| 24|         3| 20000|      [24.0,3.0]|\n",
            "|   Harsha| 21|         1| 15000|      [21.0,1.0]|\n",
            "|  Shubham| 23|         2| 18000|      [23.0,2.0]|\n",
            "+---------+---+----------+------+----------------+\n",
            "\n"
          ]
        }
      ]
    },
    {
      "cell_type": "code",
      "source": [
        "df_output.columns"
      ],
      "metadata": {
        "colab": {
          "base_uri": "https://localhost:8080/"
        },
        "id": "qoqsYocK4OEG",
        "outputId": "2b4353be-fc9c-4f65-b2f6-a563541ce1b7"
      },
      "execution_count": 12,
      "outputs": [
        {
          "output_type": "execute_result",
          "data": {
            "text/plain": [
              "['Name', 'age', 'Experience', 'Salary', 'Independent_cols']"
            ]
          },
          "metadata": {},
          "execution_count": 12
        }
      ]
    },
    {
      "cell_type": "code",
      "source": [
        "final_df = df_output.select(['Independent_cols', 'Salary'])"
      ],
      "metadata": {
        "id": "rd2PRrR54WHD"
      },
      "execution_count": 13,
      "outputs": []
    },
    {
      "cell_type": "code",
      "source": [
        "final_df.show()"
      ],
      "metadata": {
        "colab": {
          "base_uri": "https://localhost:8080/"
        },
        "id": "vYYe2_tM4mWj",
        "outputId": "75c13ea2-1cf1-4190-ffa8-f82c5aa0d2e9"
      },
      "execution_count": 14,
      "outputs": [
        {
          "output_type": "stream",
          "name": "stdout",
          "text": [
            "+----------------+------+\n",
            "|Independent_cols|Salary|\n",
            "+----------------+------+\n",
            "|     [31.0,10.0]| 30000|\n",
            "|      [30.0,8.0]| 25000|\n",
            "|      [29.0,4.0]| 20000|\n",
            "|      [24.0,3.0]| 20000|\n",
            "|      [21.0,1.0]| 15000|\n",
            "|      [23.0,2.0]| 18000|\n",
            "+----------------+------+\n",
            "\n"
          ]
        }
      ]
    },
    {
      "cell_type": "code",
      "source": [
        "from pyspark.ml.regression import LinearRegression\n",
        "train_data, test_data = final_df.randomSplit([0.75, 0.25])\n",
        "regressor = LinearRegression(featuresCol = 'Independent_cols', labelCol='Salary')\n",
        "regressor = regressor.fit(train_data)"
      ],
      "metadata": {
        "id": "4jEHNI6h4pZa"
      },
      "execution_count": 46,
      "outputs": []
    },
    {
      "cell_type": "code",
      "source": [
        "regressor.coefficients"
      ],
      "metadata": {
        "colab": {
          "base_uri": "https://localhost:8080/"
        },
        "id": "x_xiJb4P5ZFl",
        "outputId": "e723a400-8eae-4dcd-a34f-d1d1c60800ea"
      },
      "execution_count": 47,
      "outputs": [
        {
          "output_type": "execute_result",
          "data": {
            "text/plain": [
              "DenseVector([28.4757, 1271.3568])"
            ]
          },
          "metadata": {},
          "execution_count": 47
        }
      ]
    },
    {
      "cell_type": "code",
      "source": [
        "regressor.intercept"
      ],
      "metadata": {
        "colab": {
          "base_uri": "https://localhost:8080/"
        },
        "id": "SbVaO7YL5eAU",
        "outputId": "08766697-fcad-470a-8a3c-bfde9e6a5d61"
      },
      "execution_count": 48,
      "outputs": [
        {
          "output_type": "execute_result",
          "data": {
            "text/plain": [
              "14299.83249581293"
            ]
          },
          "metadata": {},
          "execution_count": 48
        }
      ]
    },
    {
      "cell_type": "code",
      "source": [
        "pred_results = regressor.evaluate(test_data)"
      ],
      "metadata": {
        "id": "VMO3cXdm5lz3"
      },
      "execution_count": 49,
      "outputs": []
    },
    {
      "cell_type": "code",
      "source": [
        "pred_results.predictions.show()"
      ],
      "metadata": {
        "colab": {
          "base_uri": "https://localhost:8080/"
        },
        "id": "GtxotL5m5w6M",
        "outputId": "24b92068-1cb7-487c-a638-598e82ecf14b"
      },
      "execution_count": 50,
      "outputs": [
        {
          "output_type": "stream",
          "name": "stdout",
          "text": [
            "+----------------+------+------------------+\n",
            "|Independent_cols|Salary|        prediction|\n",
            "+----------------+------+------------------+\n",
            "|     [31.0,10.0]| 30000|27896.147403685143|\n",
            "+----------------+------+------------------+\n",
            "\n"
          ]
        }
      ]
    },
    {
      "cell_type": "code",
      "source": [
        "pred_results.meanSquaredError, pred_results.meanAbsoluteError"
      ],
      "metadata": {
        "colab": {
          "base_uri": "https://localhost:8080/"
        },
        "id": "X0V4BY_q53ke",
        "outputId": "65c15040-c21e-4d10-d6eb-cbec4fa77af9"
      },
      "execution_count": 53,
      "outputs": [
        {
          "output_type": "execute_result",
          "data": {
            "text/plain": [
              "(4426195.747020763, 2103.852596314857)"
            ]
          },
          "metadata": {},
          "execution_count": 53
        }
      ]
    },
    {
      "cell_type": "code",
      "source": [
        ""
      ],
      "metadata": {
        "id": "fIJGOcMu7DVr"
      },
      "execution_count": null,
      "outputs": []
    }
  ]
}